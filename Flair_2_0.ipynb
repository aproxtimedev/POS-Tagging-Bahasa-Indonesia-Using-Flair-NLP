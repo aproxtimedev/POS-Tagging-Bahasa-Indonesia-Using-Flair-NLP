{
  "nbformat": 4,
  "nbformat_minor": 0,
  "metadata": {
    "colab": {
      "name": "Flair 2.0",
      "provenance": []
    },
    "kernelspec": {
      "name": "python3",
      "display_name": "Python 3"
    }
  },
  "cells": [
    {
      "cell_type": "code",
      "metadata": {
        "id": "en9bUDg3P6Pm",
        "colab_type": "code",
        "colab": {
          "base_uri": "https://localhost:8080/",
          "height": 1000
        },
        "outputId": "828d7fe2-6674-4c2f-ac81-3cd3582657a8"
      },
      "source": [
        "!pip install flair"
      ],
      "execution_count": 1,
      "outputs": [
        {
          "output_type": "stream",
          "text": [
            "Collecting flair\n",
            "\u001b[?25l  Downloading https://files.pythonhosted.org/packages/77/e3/389c2dd8d0e6ca1d8fad11aa4940e8df6909a26a5d954c0eff01f0d78b57/flair-0.4.3-py3-none-any.whl (180kB)\n",
            "\r\u001b[K     |█▉                              | 10kB 13.5MB/s eta 0:00:01\r\u001b[K     |███▋                            | 20kB 6.9MB/s eta 0:00:01\r\u001b[K     |█████▌                          | 30kB 9.6MB/s eta 0:00:01\r\u001b[K     |███████▎                        | 40kB 5.8MB/s eta 0:00:01\r\u001b[K     |█████████                       | 51kB 7.0MB/s eta 0:00:01\r\u001b[K     |███████████                     | 61kB 8.2MB/s eta 0:00:01\r\u001b[K     |████████████▊                   | 71kB 9.3MB/s eta 0:00:01\r\u001b[K     |██████████████▋                 | 81kB 10.3MB/s eta 0:00:01\r\u001b[K     |████████████████▍               | 92kB 11.4MB/s eta 0:00:01\r\u001b[K     |██████████████████▏             | 102kB 9.2MB/s eta 0:00:01\r\u001b[K     |████████████████████            | 112kB 9.2MB/s eta 0:00:01\r\u001b[K     |█████████████████████▉          | 122kB 9.2MB/s eta 0:00:01\r\u001b[K     |███████████████████████▋        | 133kB 9.2MB/s eta 0:00:01\r\u001b[K     |█████████████████████████▌      | 143kB 9.2MB/s eta 0:00:01\r\u001b[K     |███████████████████████████▎    | 153kB 9.2MB/s eta 0:00:01\r\u001b[K     |█████████████████████████████▏  | 163kB 9.2MB/s eta 0:00:01\r\u001b[K     |███████████████████████████████ | 174kB 9.2MB/s eta 0:00:01\r\u001b[K     |████████████████████████████████| 184kB 9.2MB/s \n",
            "\u001b[?25hRequirement already satisfied: gensim>=3.4.0 in /usr/local/lib/python3.6/dist-packages (from flair) (3.6.0)\n",
            "Collecting segtok>=1.5.7 (from flair)\n",
            "  Downloading https://files.pythonhosted.org/packages/1d/59/6ed78856ab99d2da04084b59e7da797972baa0efecb71546b16d48e49d9b/segtok-1.5.7.tar.gz\n",
            "Collecting pytorch-transformers>=1.1.0 (from flair)\n",
            "\u001b[?25l  Downloading https://files.pythonhosted.org/packages/a3/b7/d3d18008a67e0b968d1ab93ad444fc05699403fa662f634b2f2c318a508b/pytorch_transformers-1.2.0-py3-none-any.whl (176kB)\n",
            "\u001b[K     |████████████████████████████████| 184kB 43.4MB/s \n",
            "\u001b[?25hCollecting regex (from flair)\n",
            "\u001b[?25l  Downloading https://files.pythonhosted.org/packages/6f/a6/99eeb5904ab763db87af4bd71d9b1dfdd9792681240657a4c0a599c10a81/regex-2019.08.19.tar.gz (654kB)\n",
            "\u001b[K     |████████████████████████████████| 655kB 41.6MB/s \n",
            "\u001b[?25hRequirement already satisfied: tqdm>=4.26.0 in /usr/local/lib/python3.6/dist-packages (from flair) (4.28.1)\n",
            "Collecting deprecated>=1.2.4 (from flair)\n",
            "  Downloading https://files.pythonhosted.org/packages/88/0e/9d5a1a8cd7130c49334cce7b8167ceda63d6a329c8ea65b626116bc9e9e6/Deprecated-1.2.6-py2.py3-none-any.whl\n",
            "Requirement already satisfied: tabulate in /usr/local/lib/python3.6/dist-packages (from flair) (0.8.5)\n",
            "Collecting ipython==7.6.1 (from flair)\n",
            "\u001b[?25l  Downloading https://files.pythonhosted.org/packages/a6/2c/c7d44277b599df35af734d8f4142d501192fdb7aef5d04daf882d7eccfbc/ipython-7.6.1-py3-none-any.whl (774kB)\n",
            "\u001b[K     |████████████████████████████████| 778kB 36.9MB/s \n",
            "\u001b[?25hCollecting bpemb>=0.2.9 (from flair)\n",
            "  Downloading https://files.pythonhosted.org/packages/bc/70/468a9652095b370f797ed37ff77e742b11565c6fd79eaeca5f2e50b164a7/bpemb-0.3.0-py3-none-any.whl\n",
            "Requirement already satisfied: matplotlib>=2.2.3 in /usr/local/lib/python3.6/dist-packages (from flair) (3.0.3)\n",
            "Collecting langdetect (from flair)\n",
            "\u001b[?25l  Downloading https://files.pythonhosted.org/packages/59/59/4bc44158a767a6d66de18c4136c8aa90491d56cc951c10b74dd1e13213c9/langdetect-1.0.7.zip (998kB)\n",
            "\u001b[K     |████████████████████████████████| 1.0MB 45.0MB/s \n",
            "\u001b[?25hRequirement already satisfied: sklearn in /usr/local/lib/python3.6/dist-packages (from flair) (0.0)\n",
            "Requirement already satisfied: hyperopt>=0.1.1 in /usr/local/lib/python3.6/dist-packages (from flair) (0.1.2)\n",
            "Requirement already satisfied: urllib3<1.25,>=1.20 in /usr/local/lib/python3.6/dist-packages (from flair) (1.24.3)\n",
            "Collecting mpld3==0.3 (from flair)\n",
            "\u001b[?25l  Downloading https://files.pythonhosted.org/packages/91/95/a52d3a83d0a29ba0d6898f6727e9858fe7a43f6c2ce81a5fe7e05f0f4912/mpld3-0.3.tar.gz (788kB)\n",
            "\u001b[K     |████████████████████████████████| 798kB 43.0MB/s \n",
            "\u001b[?25hRequirement already satisfied: pytest>=3.6.4 in /usr/local/lib/python3.6/dist-packages (from flair) (3.6.4)\n",
            "Requirement already satisfied: ipython-genutils==0.2.0 in /usr/local/lib/python3.6/dist-packages (from flair) (0.2.0)\n",
            "Collecting sqlitedict>=1.6.0 (from flair)\n",
            "  Downloading https://files.pythonhosted.org/packages/0f/1c/c757b93147a219cf1e25cef7e1ad9b595b7f802159493c45ce116521caff/sqlitedict-1.6.0.tar.gz\n",
            "Requirement already satisfied: torch>=1.1.0 in /usr/local/lib/python3.6/dist-packages (from flair) (1.2.0)\n",
            "Requirement already satisfied: numpy>=1.11.3 in /usr/local/lib/python3.6/dist-packages (from gensim>=3.4.0->flair) (1.16.5)\n",
            "Requirement already satisfied: six>=1.5.0 in /usr/local/lib/python3.6/dist-packages (from gensim>=3.4.0->flair) (1.12.0)\n",
            "Requirement already satisfied: scipy>=0.18.1 in /usr/local/lib/python3.6/dist-packages (from gensim>=3.4.0->flair) (1.3.1)\n",
            "Requirement already satisfied: smart-open>=1.2.1 in /usr/local/lib/python3.6/dist-packages (from gensim>=3.4.0->flair) (1.8.4)\n",
            "Collecting sentencepiece (from pytorch-transformers>=1.1.0->flair)\n",
            "\u001b[?25l  Downloading https://files.pythonhosted.org/packages/14/3d/efb655a670b98f62ec32d66954e1109f403db4d937c50d779a75b9763a29/sentencepiece-0.1.83-cp36-cp36m-manylinux1_x86_64.whl (1.0MB)\n",
            "\u001b[K     |████████████████████████████████| 1.0MB 41.7MB/s \n",
            "\u001b[?25hRequirement already satisfied: boto3 in /usr/local/lib/python3.6/dist-packages (from pytorch-transformers>=1.1.0->flair) (1.9.236)\n",
            "Requirement already satisfied: requests in /usr/local/lib/python3.6/dist-packages (from pytorch-transformers>=1.1.0->flair) (2.21.0)\n",
            "Collecting sacremoses (from pytorch-transformers>=1.1.0->flair)\n",
            "\u001b[?25l  Downloading https://files.pythonhosted.org/packages/27/04/b92425ca552116afdb7698fa3f00ca1c975cfd86a847cf132fd813c5d901/sacremoses-0.0.34.tar.gz (859kB)\n",
            "\u001b[K     |████████████████████████████████| 860kB 40.2MB/s \n",
            "\u001b[?25hRequirement already satisfied: wrapt<2,>=1.10 in /usr/local/lib/python3.6/dist-packages (from deprecated>=1.2.4->flair) (1.11.2)\n",
            "Requirement already satisfied: backcall in /usr/local/lib/python3.6/dist-packages (from ipython==7.6.1->flair) (0.1.0)\n",
            "Requirement already satisfied: pygments in /usr/local/lib/python3.6/dist-packages (from ipython==7.6.1->flair) (2.1.3)\n",
            "Requirement already satisfied: decorator in /usr/local/lib/python3.6/dist-packages (from ipython==7.6.1->flair) (4.4.0)\n",
            "Requirement already satisfied: pickleshare in /usr/local/lib/python3.6/dist-packages (from ipython==7.6.1->flair) (0.7.5)\n",
            "Requirement already satisfied: setuptools>=18.5 in /usr/local/lib/python3.6/dist-packages (from ipython==7.6.1->flair) (41.2.0)\n",
            "Requirement already satisfied: pexpect; sys_platform != \"win32\" in /usr/local/lib/python3.6/dist-packages (from ipython==7.6.1->flair) (4.7.0)\n",
            "Requirement already satisfied: traitlets>=4.2 in /usr/local/lib/python3.6/dist-packages (from ipython==7.6.1->flair) (4.3.2)\n",
            "Collecting prompt-toolkit<2.1.0,>=2.0.0 (from ipython==7.6.1->flair)\n",
            "\u001b[?25l  Downloading https://files.pythonhosted.org/packages/f7/a7/9b1dd14ef45345f186ef69d175bdd2491c40ab1dfa4b2b3e4352df719ed7/prompt_toolkit-2.0.9-py3-none-any.whl (337kB)\n",
            "\u001b[K     |████████████████████████████████| 337kB 46.1MB/s \n",
            "\u001b[?25hRequirement already satisfied: jedi>=0.10 in /usr/local/lib/python3.6/dist-packages (from ipython==7.6.1->flair) (0.15.1)\n",
            "Requirement already satisfied: pyparsing!=2.0.4,!=2.1.2,!=2.1.6,>=2.0.1 in /usr/local/lib/python3.6/dist-packages (from matplotlib>=2.2.3->flair) (2.4.2)\n",
            "Requirement already satisfied: python-dateutil>=2.1 in /usr/local/lib/python3.6/dist-packages (from matplotlib>=2.2.3->flair) (2.5.3)\n",
            "Requirement already satisfied: cycler>=0.10 in /usr/local/lib/python3.6/dist-packages (from matplotlib>=2.2.3->flair) (0.10.0)\n",
            "Requirement already satisfied: kiwisolver>=1.0.1 in /usr/local/lib/python3.6/dist-packages (from matplotlib>=2.2.3->flair) (1.1.0)\n",
            "Requirement already satisfied: scikit-learn in /usr/local/lib/python3.6/dist-packages (from sklearn->flair) (0.21.3)\n",
            "Requirement already satisfied: networkx in /usr/local/lib/python3.6/dist-packages (from hyperopt>=0.1.1->flair) (2.3)\n",
            "Requirement already satisfied: pymongo in /usr/local/lib/python3.6/dist-packages (from hyperopt>=0.1.1->flair) (3.9.0)\n",
            "Requirement already satisfied: future in /usr/local/lib/python3.6/dist-packages (from hyperopt>=0.1.1->flair) (0.16.0)\n",
            "Requirement already satisfied: py>=1.5.0 in /usr/local/lib/python3.6/dist-packages (from pytest>=3.6.4->flair) (1.8.0)\n",
            "Requirement already satisfied: pluggy<0.8,>=0.5 in /usr/local/lib/python3.6/dist-packages (from pytest>=3.6.4->flair) (0.7.1)\n",
            "Requirement already satisfied: more-itertools>=4.0.0 in /usr/local/lib/python3.6/dist-packages (from pytest>=3.6.4->flair) (7.2.0)\n",
            "Requirement already satisfied: attrs>=17.4.0 in /usr/local/lib/python3.6/dist-packages (from pytest>=3.6.4->flair) (19.1.0)\n",
            "Requirement already satisfied: atomicwrites>=1.0 in /usr/local/lib/python3.6/dist-packages (from pytest>=3.6.4->flair) (1.3.0)\n",
            "Requirement already satisfied: boto>=2.32 in /usr/local/lib/python3.6/dist-packages (from smart-open>=1.2.1->gensim>=3.4.0->flair) (2.49.0)\n",
            "Requirement already satisfied: s3transfer<0.3.0,>=0.2.0 in /usr/local/lib/python3.6/dist-packages (from boto3->pytorch-transformers>=1.1.0->flair) (0.2.1)\n",
            "Requirement already satisfied: botocore<1.13.0,>=1.12.236 in /usr/local/lib/python3.6/dist-packages (from boto3->pytorch-transformers>=1.1.0->flair) (1.12.236)\n",
            "Requirement already satisfied: jmespath<1.0.0,>=0.7.1 in /usr/local/lib/python3.6/dist-packages (from boto3->pytorch-transformers>=1.1.0->flair) (0.9.4)\n",
            "Requirement already satisfied: idna<2.9,>=2.5 in /usr/local/lib/python3.6/dist-packages (from requests->pytorch-transformers>=1.1.0->flair) (2.8)\n",
            "Requirement already satisfied: certifi>=2017.4.17 in /usr/local/lib/python3.6/dist-packages (from requests->pytorch-transformers>=1.1.0->flair) (2019.9.11)\n",
            "Requirement already satisfied: chardet<3.1.0,>=3.0.2 in /usr/local/lib/python3.6/dist-packages (from requests->pytorch-transformers>=1.1.0->flair) (3.0.4)\n",
            "Requirement already satisfied: click in /usr/local/lib/python3.6/dist-packages (from sacremoses->pytorch-transformers>=1.1.0->flair) (7.0)\n",
            "Requirement already satisfied: joblib in /usr/local/lib/python3.6/dist-packages (from sacremoses->pytorch-transformers>=1.1.0->flair) (0.13.2)\n",
            "Requirement already satisfied: ptyprocess>=0.5 in /usr/local/lib/python3.6/dist-packages (from pexpect; sys_platform != \"win32\"->ipython==7.6.1->flair) (0.6.0)\n",
            "Requirement already satisfied: wcwidth in /usr/local/lib/python3.6/dist-packages (from prompt-toolkit<2.1.0,>=2.0.0->ipython==7.6.1->flair) (0.1.7)\n",
            "Requirement already satisfied: parso>=0.5.0 in /usr/local/lib/python3.6/dist-packages (from jedi>=0.10->ipython==7.6.1->flair) (0.5.1)\n",
            "Requirement already satisfied: docutils<0.16,>=0.10 in /usr/local/lib/python3.6/dist-packages (from botocore<1.13.0,>=1.12.236->boto3->pytorch-transformers>=1.1.0->flair) (0.15.2)\n",
            "Building wheels for collected packages: segtok, regex, langdetect, mpld3, sqlitedict, sacremoses\n",
            "  Building wheel for segtok (setup.py) ... \u001b[?25l\u001b[?25hdone\n",
            "  Created wheel for segtok: filename=segtok-1.5.7-cp36-none-any.whl size=23258 sha256=3de0a09bda7361b8f23d898233136eca86420bd55c8eb0308150368e7e5ccdce\n",
            "  Stored in directory: /root/.cache/pip/wheels/15/ee/a8/6112173f1386d33eebedb3f73429cfa41a4c3084556bcee254\n",
            "  Building wheel for regex (setup.py) ... \u001b[?25l\u001b[?25hdone\n",
            "  Created wheel for regex: filename=regex-2019.8.19-cp36-cp36m-linux_x86_64.whl size=609244 sha256=4cd31ad073bfe83608b6e2d2a7ca8f5c347697d6c0d91a931fe3f0ffe9f1cf9f\n",
            "  Stored in directory: /root/.cache/pip/wheels/90/04/07/b5010fb816721eb3d6dd64ed5cc8111ca23f97fdab8619b5be\n",
            "  Building wheel for langdetect (setup.py) ... \u001b[?25l\u001b[?25hdone\n",
            "  Created wheel for langdetect: filename=langdetect-1.0.7-cp36-none-any.whl size=993460 sha256=3e234a6e10bac2ec85a1990f56b73095fa1395f4c7281145c9c51b3325a988f4\n",
            "  Stored in directory: /root/.cache/pip/wheels/ec/0c/a9/1647275e7ef5014e7b83ff30105180e332867d65e7617ddafe\n",
            "  Building wheel for mpld3 (setup.py) ... \u001b[?25l\u001b[?25hdone\n",
            "  Created wheel for mpld3: filename=mpld3-0.3-cp36-none-any.whl size=116679 sha256=5b29805fce2d0b4ccc0453cb2fc6a918fa909f841bb1aba704b0d0d1e059c9a5\n",
            "  Stored in directory: /root/.cache/pip/wheels/c0/47/fb/8a64f89aecfe0059830479308ad42d62e898a3e3cefdf6ba28\n",
            "  Building wheel for sqlitedict (setup.py) ... \u001b[?25l\u001b[?25hdone\n",
            "  Created wheel for sqlitedict: filename=sqlitedict-1.6.0-cp36-none-any.whl size=14689 sha256=a454b07cd3c321c626a7ad991b453a04397b4fc4d42a4061bffc5ada65e524a6\n",
            "  Stored in directory: /root/.cache/pip/wheels/bd/57/d3/907c3ee02d35e66f674ad0106e61f06eeeb98f6ee66a6cc3fe\n",
            "  Building wheel for sacremoses (setup.py) ... \u001b[?25l\u001b[?25hdone\n",
            "  Created wheel for sacremoses: filename=sacremoses-0.0.34-cp36-none-any.whl size=883992 sha256=8449cc3cb9242da0e4bc0d72f1a01268416c43019560a78b66e242fd827909a7\n",
            "  Stored in directory: /root/.cache/pip/wheels/07/b9/5b/8bd674c23e962fbff34420a9fa7a2c374d591ecadd5bc37684\n",
            "Successfully built segtok regex langdetect mpld3 sqlitedict sacremoses\n",
            "\u001b[31mERROR: jupyter-console 5.2.0 has requirement prompt-toolkit<2.0.0,>=1.0.0, but you'll have prompt-toolkit 2.0.9 which is incompatible.\u001b[0m\n",
            "\u001b[31mERROR: google-colab 1.0.0 has requirement ipython~=5.5.0, but you'll have ipython 7.6.1 which is incompatible.\u001b[0m\n",
            "Installing collected packages: regex, segtok, sentencepiece, sacremoses, pytorch-transformers, deprecated, prompt-toolkit, ipython, bpemb, langdetect, mpld3, sqlitedict, flair\n",
            "  Found existing installation: prompt-toolkit 1.0.16\n",
            "    Uninstalling prompt-toolkit-1.0.16:\n",
            "      Successfully uninstalled prompt-toolkit-1.0.16\n",
            "  Found existing installation: ipython 5.5.0\n",
            "    Uninstalling ipython-5.5.0:\n",
            "      Successfully uninstalled ipython-5.5.0\n",
            "Successfully installed bpemb-0.3.0 deprecated-1.2.6 flair-0.4.3 ipython-7.6.1 langdetect-1.0.7 mpld3-0.3 prompt-toolkit-2.0.9 pytorch-transformers-1.2.0 regex-2019.8.19 sacremoses-0.0.34 segtok-1.5.7 sentencepiece-0.1.83 sqlitedict-1.6.0\n"
          ],
          "name": "stdout"
        },
        {
          "output_type": "display_data",
          "data": {
            "application/vnd.colab-display-data+json": {
              "pip_warning": {
                "packages": [
                  "IPython",
                  "prompt_toolkit"
                ]
              }
            }
          },
          "metadata": {
            "tags": []
          }
        }
      ]
    },
    {
      "cell_type": "code",
      "metadata": {
        "id": "Byjn8iEai1gu",
        "colab_type": "code",
        "colab": {}
      },
      "source": [
        "from flair.data_fetcher import NLPTaskDataFetcher, NLPTask\n",
        "from flair.embeddings import TokenEmbeddings, WordEmbeddings, StackedEmbeddings, BertEmbeddings\n",
        "from typing import List"
      ],
      "execution_count": 0,
      "outputs": []
    },
    {
      "cell_type": "code",
      "metadata": {
        "id": "-N8O7y3ezxH2",
        "colab_type": "code",
        "outputId": "07fcee7a-31f1-4cea-f29a-cbb8ef90211b",
        "colab": {
          "base_uri": "https://localhost:8080/",
          "height": 1000
        }
      },
      "source": [
        "# 1. get the corpus\n",
        "corpus = NLPTaskDataFetcher.load_corpus(NLPTask.UD_INDONESIAN)\n",
        "\n",
        "# 2. what tag do we want to predict?\n",
        "tag_type = 'upos'\n",
        "\n",
        "# 3. make the tag dictionary from the corpus\n",
        "tag_dictionary = corpus.make_tag_dictionary(tag_type=tag_type)\n",
        "print(tag_dictionary.idx2item)\n",
        "\n",
        "# 4. initialize embeddings\n",
        "embedding_types: List[TokenEmbeddings] = [\n",
        "    WordEmbeddings('id-crawl'),\n",
        "    WordEmbeddings('id'),\n",
        "    #WordEmbeddings('glove'),\n",
        "    #BertEmbeddings('bert-base-multilingual-cased')\n",
        "]\n",
        "\n",
        "embeddings: StackedEmbeddings = StackedEmbeddings(embeddings=embedding_types)\n",
        "\n",
        "# 5. initialize sequence tagger\n",
        "from flair.models import SequenceTagger\n",
        "tagger: SequenceTagger = SequenceTagger(hidden_size=256,\n",
        "                                        embeddings=embeddings,\n",
        "                                        tag_dictionary=tag_dictionary,\n",
        "                                        tag_type=tag_type,\n",
        "                                        use_crf=True)\n",
        "\n",
        "from flair.trainers import ModelTrainer\n",
        "\n",
        "trainer: ModelTrainer = ModelTrainer(tagger, corpus)\n",
        "\n",
        "# 7. start training\n",
        "trainer.train('resources/taggers/example-universal-pos',\n",
        "              learning_rate=0.1,\n",
        "              mini_batch_size=32,\n",
        "              max_epochs=10)"
      ],
      "execution_count": 3,
      "outputs": [
        {
          "output_type": "stream",
          "text": [
            "/usr/local/lib/python3.6/dist-packages/ipykernel_launcher.py:1: DeprecationWarning: Call to deprecated function (or staticmethod) load_corpus. (Use 'flair.datasets' instead.) -- Deprecated since version 0.4.1.\n",
            "  \"\"\"Entry point for launching an IPython kernel.\n"
          ],
          "name": "stderr"
        },
        {
          "output_type": "stream",
          "text": [
            "2019-10-02 14:40:53,330 https://raw.githubusercontent.com/UniversalDependencies/UD_Indonesian-GSD/master/id_gsd-ud-dev.conllu not found in cache, downloading to /tmp/tmpageezpn7\n"
          ],
          "name": "stdout"
        },
        {
          "output_type": "stream",
          "text": [
            "979367B [00:00, 55400257.94B/s]          "
          ],
          "name": "stderr"
        },
        {
          "output_type": "stream",
          "text": [
            "2019-10-02 14:40:53,383 copying /tmp/tmpageezpn7 to cache at /root/.flair/datasets/ud_indonesian/id_gsd-ud-dev.conllu\n",
            "2019-10-02 14:40:53,387 removing temp file /tmp/tmpageezpn7\n"
          ],
          "name": "stdout"
        },
        {
          "output_type": "stream",
          "text": [
            "\n"
          ],
          "name": "stderr"
        },
        {
          "output_type": "stream",
          "text": [
            "2019-10-02 14:40:53,706 https://raw.githubusercontent.com/UniversalDependencies/UD_Indonesian-GSD/master/id_gsd-ud-test.conllu not found in cache, downloading to /tmp/tmprgx28vln\n"
          ],
          "name": "stdout"
        },
        {
          "output_type": "stream",
          "text": [
            "916721B [00:00, 53745496.39B/s]          "
          ],
          "name": "stderr"
        },
        {
          "output_type": "stream",
          "text": [
            "2019-10-02 14:40:53,763 copying /tmp/tmprgx28vln to cache at /root/.flair/datasets/ud_indonesian/id_gsd-ud-test.conllu\n",
            "2019-10-02 14:40:53,768 removing temp file /tmp/tmprgx28vln\n"
          ],
          "name": "stdout"
        },
        {
          "output_type": "stream",
          "text": [
            "\n"
          ],
          "name": "stderr"
        },
        {
          "output_type": "stream",
          "text": [
            "2019-10-02 14:40:54,630 https://raw.githubusercontent.com/UniversalDependencies/UD_Indonesian-GSD/master/id_gsd-ud-train.conllu not found in cache, downloading to /tmp/tmp3hkk8ykx\n"
          ],
          "name": "stdout"
        },
        {
          "output_type": "stream",
          "text": [
            "7591261B [00:00, 102164433.03B/s]         "
          ],
          "name": "stderr"
        },
        {
          "output_type": "stream",
          "text": [
            "2019-10-02 14:40:54,741 copying /tmp/tmp3hkk8ykx to cache at /root/.flair/datasets/ud_indonesian/id_gsd-ud-train.conllu\n",
            "2019-10-02 14:40:54,756 removing temp file /tmp/tmp3hkk8ykx\n"
          ],
          "name": "stdout"
        },
        {
          "output_type": "stream",
          "text": [
            "\n"
          ],
          "name": "stderr"
        },
        {
          "output_type": "stream",
          "text": [
            "2019-10-02 14:40:54,977 Reading data from /root/.flair/datasets/ud_indonesian\n",
            "2019-10-02 14:40:54,978 Train: /root/.flair/datasets/ud_indonesian/id_gsd-ud-train.conllu\n",
            "2019-10-02 14:40:54,982 Dev: /root/.flair/datasets/ud_indonesian/id_gsd-ud-dev.conllu\n",
            "2019-10-02 14:40:54,984 Test: /root/.flair/datasets/ud_indonesian/id_gsd-ud-test.conllu\n"
          ],
          "name": "stdout"
        },
        {
          "output_type": "stream",
          "text": [
            "/usr/local/lib/python3.6/dist-packages/flair/data_fetcher.py:218: DeprecationWarning: Call to deprecated function (or staticmethod) load_ud_corpus. (Use 'flair.datasets' instead.) -- Deprecated since version 0.4.1.\n",
            "  return NLPTaskDataFetcher.load_ud_corpus(data_folder)\n",
            "/usr/local/lib/python3.6/dist-packages/flair/data_fetcher.py:384: DeprecationWarning: Call to deprecated function (or staticmethod) read_conll_ud. (Use 'flair.datasets' instead.) -- Deprecated since version 0.4.1.\n",
            "  sentences_train: List[Sentence] = NLPTaskDataFetcher.read_conll_ud(train_file)\n",
            "/usr/local/lib/python3.6/dist-packages/flair/data_fetcher.py:385: DeprecationWarning: Call to deprecated function (or staticmethod) read_conll_ud. (Use 'flair.datasets' instead.) -- Deprecated since version 0.4.1.\n",
            "  sentences_test: List[Sentence] = NLPTaskDataFetcher.read_conll_ud(test_file)\n",
            "/usr/local/lib/python3.6/dist-packages/flair/data_fetcher.py:386: DeprecationWarning: Call to deprecated function (or staticmethod) read_conll_ud. (Use 'flair.datasets' instead.) -- Deprecated since version 0.4.1.\n",
            "  sentences_dev: List[Sentence] = NLPTaskDataFetcher.read_conll_ud(dev_file)\n"
          ],
          "name": "stderr"
        },
        {
          "output_type": "stream",
          "text": [
            "[b'<unk>', b'O', b'PROPN', b'AUX', b'DET', b'NOUN', b'PRON', b'VERB', b'ADP', b'PUNCT', b'ADV', b'CCONJ', b'SCONJ', b'NUM', b'ADJ', b'PART', b'SYM', b'X', b'<START>', b'<STOP>']\n",
            "2019-10-02 14:40:58,802 https://s3.eu-central-1.amazonaws.com/alan-nlp/resources/embeddings-v0.4/id-crawl-fasttext-300d-1M.vectors.npy not found in cache, downloading to /tmp/tmpz8h2d6zj\n"
          ],
          "name": "stdout"
        },
        {
          "output_type": "stream",
          "text": [
            "100%|██████████| 1199998928/1199998928 [00:15<00:00, 75953887.42B/s]"
          ],
          "name": "stderr"
        },
        {
          "output_type": "stream",
          "text": [
            "2019-10-02 14:41:14,807 copying /tmp/tmpz8h2d6zj to cache at /root/.flair/embeddings/id-crawl-fasttext-300d-1M.vectors.npy\n"
          ],
          "name": "stdout"
        },
        {
          "output_type": "stream",
          "text": [
            "\n"
          ],
          "name": "stderr"
        },
        {
          "output_type": "stream",
          "text": [
            "2019-10-02 14:41:38,862 removing temp file /tmp/tmpz8h2d6zj\n",
            "2019-10-02 14:41:39,120 https://s3.eu-central-1.amazonaws.com/alan-nlp/resources/embeddings-v0.4/id-crawl-fasttext-300d-1M not found in cache, downloading to /tmp/tmp49zb9cr7\n"
          ],
          "name": "stdout"
        },
        {
          "output_type": "stream",
          "text": [
            "100%|██████████| 39636845/39636845 [00:03<00:00, 12208766.08B/s]"
          ],
          "name": "stderr"
        },
        {
          "output_type": "stream",
          "text": [
            "2019-10-02 14:41:42,546 copying /tmp/tmp49zb9cr7 to cache at /root/.flair/embeddings/id-crawl-fasttext-300d-1M\n",
            "2019-10-02 14:41:42,607 removing temp file /tmp/tmp49zb9cr7\n"
          ],
          "name": "stdout"
        },
        {
          "output_type": "stream",
          "text": [
            "\n",
            "/usr/local/lib/python3.6/dist-packages/smart_open/smart_open_lib.py:398: UserWarning: This function is deprecated, use smart_open.open instead. See the migration notes for details: https://github.com/RaRe-Technologies/smart_open/blob/master/README.rst#migrating-to-the-new-open-function\n",
            "  'See the migration notes for details: %s' % _MIGRATION_NOTES_URL\n"
          ],
          "name": "stderr"
        },
        {
          "output_type": "stream",
          "text": [
            "2019-10-02 14:41:52,005 https://s3.eu-central-1.amazonaws.com/alan-nlp/resources/embeddings-v0.4/id-wiki-fasttext-300d-1M.vectors.npy not found in cache, downloading to /tmp/tmpm7l0k8dr\n"
          ],
          "name": "stdout"
        },
        {
          "output_type": "stream",
          "text": [
            "100%|██████████| 360822128/360822128 [00:04<00:00, 73167430.57B/s]"
          ],
          "name": "stderr"
        },
        {
          "output_type": "stream",
          "text": [
            "2019-10-02 14:41:57,151 copying /tmp/tmpm7l0k8dr to cache at /root/.flair/embeddings/id-wiki-fasttext-300d-1M.vectors.npy\n"
          ],
          "name": "stdout"
        },
        {
          "output_type": "stream",
          "text": [
            "\n"
          ],
          "name": "stderr"
        },
        {
          "output_type": "stream",
          "text": [
            "2019-10-02 14:42:04,509 removing temp file /tmp/tmpm7l0k8dr\n",
            "2019-10-02 14:42:04,657 https://s3.eu-central-1.amazonaws.com/alan-nlp/resources/embeddings-v0.4/id-wiki-fasttext-300d-1M not found in cache, downloading to /tmp/tmpp681uda2\n"
          ],
          "name": "stdout"
        },
        {
          "output_type": "stream",
          "text": [
            "100%|██████████| 11638719/11638719 [00:03<00:00, 3110435.11B/s]"
          ],
          "name": "stderr"
        },
        {
          "output_type": "stream",
          "text": [
            "2019-10-02 14:42:08,579 copying /tmp/tmpp681uda2 to cache at /root/.flair/embeddings/id-wiki-fasttext-300d-1M\n",
            "2019-10-02 14:42:08,597 removing temp file /tmp/tmpp681uda2\n"
          ],
          "name": "stdout"
        },
        {
          "output_type": "stream",
          "text": [
            "\n"
          ],
          "name": "stderr"
        },
        {
          "output_type": "stream",
          "text": [
            "2019-10-02 14:42:12,948 ----------------------------------------------------------------------------------------------------\n",
            "2019-10-02 14:42:12,950 Model: \"SequenceTagger(\n",
            "  (embeddings): StackedEmbeddings(\n",
            "    (list_embedding_0): WordEmbeddings('id-crawl')\n",
            "    (list_embedding_1): WordEmbeddings('id')\n",
            "  )\n",
            "  (word_dropout): WordDropout(p=0.05)\n",
            "  (locked_dropout): LockedDropout(p=0.5)\n",
            "  (embedding2nn): Linear(in_features=600, out_features=600, bias=True)\n",
            "  (rnn): LSTM(600, 256, bidirectional=True)\n",
            "  (linear): Linear(in_features=512, out_features=20, bias=True)\n",
            ")\"\n",
            "2019-10-02 14:42:12,953 ----------------------------------------------------------------------------------------------------\n",
            "2019-10-02 14:42:12,955 Corpus: \"Corpus: 4477 train + 559 dev + 557 test sentences\"\n",
            "2019-10-02 14:42:12,957 ----------------------------------------------------------------------------------------------------\n",
            "2019-10-02 14:42:12,959 Parameters:\n",
            "2019-10-02 14:42:12,962  - learning_rate: \"0.1\"\n",
            "2019-10-02 14:42:12,963  - mini_batch_size: \"32\"\n",
            "2019-10-02 14:42:12,964  - patience: \"3\"\n",
            "2019-10-02 14:42:12,966  - anneal_factor: \"0.5\"\n",
            "2019-10-02 14:42:12,973  - max_epochs: \"10\"\n",
            "2019-10-02 14:42:12,975  - shuffle: \"True\"\n",
            "2019-10-02 14:42:12,978  - train_with_dev: \"False\"\n",
            "2019-10-02 14:42:12,980 ----------------------------------------------------------------------------------------------------\n",
            "2019-10-02 14:42:12,981 Model training base path: \"resources/taggers/example-universal-pos\"\n",
            "2019-10-02 14:42:12,981 ----------------------------------------------------------------------------------------------------\n",
            "2019-10-02 14:42:12,982 Device: cpu\n",
            "2019-10-02 14:42:12,984 ----------------------------------------------------------------------------------------------------\n",
            "2019-10-02 14:42:12,986 Embeddings storage mode: cpu\n",
            "2019-10-02 14:42:12,989 ----------------------------------------------------------------------------------------------------\n",
            "2019-10-02 14:42:14,655 epoch 1 - iter 0/140 - loss 78.49903107 - samples/sec: 273.05\n",
            "2019-10-02 14:42:25,099 epoch 1 - iter 14/140 - loss 57.36564382 - samples/sec: 42.95\n",
            "2019-10-02 14:42:36,428 epoch 1 - iter 28/140 - loss 50.32315576 - samples/sec: 39.58\n",
            "2019-10-02 14:42:45,686 epoch 1 - iter 42/140 - loss 45.20799907 - samples/sec: 48.44\n",
            "2019-10-02 14:42:56,933 epoch 1 - iter 56/140 - loss 41.69053931 - samples/sec: 39.87\n",
            "2019-10-02 14:43:04,952 epoch 1 - iter 70/140 - loss 38.46909547 - samples/sec: 55.94\n",
            "2019-10-02 14:43:15,021 epoch 1 - iter 84/140 - loss 36.29682646 - samples/sec: 44.53\n",
            "2019-10-02 14:43:24,099 epoch 1 - iter 98/140 - loss 34.21306672 - samples/sec: 49.40\n",
            "2019-10-02 14:43:34,835 epoch 1 - iter 112/140 - loss 32.42493881 - samples/sec: 41.77\n",
            "2019-10-02 14:43:43,239 epoch 1 - iter 126/140 - loss 30.77056043 - samples/sec: 53.39\n",
            "2019-10-02 14:43:52,818 ----------------------------------------------------------------------------------------------------\n",
            "2019-10-02 14:43:52,820 EPOCH 1 done: loss 29.6793 - lr 0.1000\n",
            "2019-10-02 14:43:56,365 DEV : loss 12.849641799926758 - score 0.8174\n",
            "2019-10-02 14:43:56,411 BAD EPOCHS (no improvement): 0\n",
            "2019-10-02 14:44:21,926 ----------------------------------------------------------------------------------------------------\n",
            "2019-10-02 14:44:23,319 epoch 2 - iter 0/140 - loss 19.48507881 - samples/sec: 323.06\n",
            "2019-10-02 14:44:32,290 epoch 2 - iter 14/140 - loss 15.93179569 - samples/sec: 49.99\n",
            "2019-10-02 14:44:43,104 epoch 2 - iter 28/140 - loss 15.89974574 - samples/sec: 41.48\n",
            "2019-10-02 14:44:54,460 epoch 2 - iter 42/140 - loss 16.01891143 - samples/sec: 39.49\n",
            "2019-10-02 14:45:03,318 epoch 2 - iter 56/140 - loss 15.44518938 - samples/sec: 50.64\n",
            "2019-10-02 14:45:13,044 epoch 2 - iter 70/140 - loss 15.08942967 - samples/sec: 46.12\n",
            "2019-10-02 14:45:24,731 epoch 2 - iter 84/140 - loss 14.86619933 - samples/sec: 38.37\n",
            "2019-10-02 14:45:37,375 epoch 2 - iter 98/140 - loss 14.72105864 - samples/sec: 35.46\n",
            "2019-10-02 14:45:53,967 epoch 2 - iter 112/140 - loss 14.50502883 - samples/sec: 27.02\n",
            "2019-10-02 14:46:06,813 epoch 2 - iter 126/140 - loss 14.31638707 - samples/sec: 34.91\n",
            "2019-10-02 14:46:15,581 ----------------------------------------------------------------------------------------------------\n",
            "2019-10-02 14:46:15,583 EPOCH 2 done: loss 14.2468 - lr 0.1000\n",
            "2019-10-02 14:46:19,154 DEV : loss 8.15754222869873 - score 0.8888\n",
            "2019-10-02 14:46:19,202 BAD EPOCHS (no improvement): 0\n",
            "2019-10-02 14:46:42,150 ----------------------------------------------------------------------------------------------------\n",
            "2019-10-02 14:46:42,702 epoch 3 - iter 0/140 - loss 13.60164452 - samples/sec: 820.43\n",
            "2019-10-02 14:46:54,783 epoch 3 - iter 14/140 - loss 12.09002101 - samples/sec: 37.11\n",
            "2019-10-02 14:47:09,677 epoch 3 - iter 28/140 - loss 12.57344723 - samples/sec: 30.11\n",
            "2019-10-02 14:47:18,867 epoch 3 - iter 42/140 - loss 12.37552936 - samples/sec: 48.80\n",
            "2019-10-02 14:47:33,708 epoch 3 - iter 56/140 - loss 12.12698327 - samples/sec: 30.21\n",
            "2019-10-02 14:47:46,139 epoch 3 - iter 70/140 - loss 11.87159910 - samples/sec: 36.07\n",
            "2019-10-02 14:47:54,067 epoch 3 - iter 84/140 - loss 11.69977932 - samples/sec: 56.58\n",
            "2019-10-02 14:48:05,823 epoch 3 - iter 98/140 - loss 11.67369095 - samples/sec: 38.14\n",
            "2019-10-02 14:48:17,727 epoch 3 - iter 112/140 - loss 11.65703306 - samples/sec: 37.67\n",
            "2019-10-02 14:48:35,114 epoch 3 - iter 126/140 - loss 11.71585181 - samples/sec: 25.78\n",
            "2019-10-02 14:48:46,158 ----------------------------------------------------------------------------------------------------\n",
            "2019-10-02 14:48:46,161 EPOCH 3 done: loss 11.6467 - lr 0.1000\n",
            "2019-10-02 14:48:49,741 DEV : loss 6.880102157592773 - score 0.9028\n",
            "2019-10-02 14:48:49,789 BAD EPOCHS (no improvement): 0\n",
            "2019-10-02 14:49:10,492 ----------------------------------------------------------------------------------------------------\n",
            "2019-10-02 14:49:11,282 epoch 4 - iter 0/140 - loss 9.97934341 - samples/sec: 568.18\n",
            "2019-10-02 14:49:20,847 epoch 4 - iter 14/140 - loss 10.95307872 - samples/sec: 46.89\n",
            "2019-10-02 14:49:36,393 epoch 4 - iter 28/140 - loss 11.08689540 - samples/sec: 28.83\n",
            "2019-10-02 14:49:43,703 epoch 4 - iter 42/140 - loss 10.45472503 - samples/sec: 61.38\n",
            "2019-10-02 14:50:00,403 epoch 4 - iter 56/140 - loss 10.50133935 - samples/sec: 26.84\n",
            "2019-10-02 14:50:10,117 epoch 4 - iter 70/140 - loss 10.43409485 - samples/sec: 46.18\n",
            "2019-10-02 14:50:23,471 epoch 4 - iter 84/140 - loss 10.36294608 - samples/sec: 33.58\n",
            "2019-10-02 14:50:35,358 epoch 4 - iter 98/140 - loss 10.37763778 - samples/sec: 37.72\n",
            "2019-10-02 14:50:58,095 epoch 4 - iter 112/140 - loss 10.41420689 - samples/sec: 19.71\n",
            "2019-10-02 14:51:28,981 epoch 4 - iter 126/140 - loss 10.34287170 - samples/sec: 14.51\n",
            "2019-10-02 14:51:47,777 ----------------------------------------------------------------------------------------------------\n",
            "2019-10-02 14:51:47,779 EPOCH 4 done: loss 10.3233 - lr 0.1000\n",
            "2019-10-02 14:51:51,327 DEV : loss 6.551884174346924 - score 0.9049\n",
            "2019-10-02 14:51:51,376 BAD EPOCHS (no improvement): 0\n",
            "2019-10-02 14:52:17,446 ----------------------------------------------------------------------------------------------------\n",
            "2019-10-02 14:52:18,164 epoch 5 - iter 0/140 - loss 6.75649881 - samples/sec: 626.94\n",
            "2019-10-02 14:52:37,177 epoch 5 - iter 14/140 - loss 10.11318804 - samples/sec: 23.58\n",
            "2019-10-02 14:52:58,995 epoch 5 - iter 28/140 - loss 10.11719819 - samples/sec: 20.54\n",
            "2019-10-02 14:53:08,887 epoch 5 - iter 42/140 - loss 10.12461713 - samples/sec: 45.34\n",
            "2019-10-02 14:53:22,914 epoch 5 - iter 56/140 - loss 10.13281606 - samples/sec: 31.96\n",
            "2019-10-02 14:53:33,494 epoch 5 - iter 70/140 - loss 9.94980599 - samples/sec: 42.38\n",
            "2019-10-02 14:53:56,186 epoch 5 - iter 84/140 - loss 9.94235472 - samples/sec: 19.75\n",
            "2019-10-02 14:54:13,022 epoch 5 - iter 98/140 - loss 9.93084655 - samples/sec: 26.63\n",
            "2019-10-02 14:54:28,909 epoch 5 - iter 112/140 - loss 9.85363559 - samples/sec: 28.22\n",
            "2019-10-02 14:54:47,418 epoch 5 - iter 126/140 - loss 9.84970259 - samples/sec: 24.22\n",
            "2019-10-02 14:55:01,823 ----------------------------------------------------------------------------------------------------\n",
            "2019-10-02 14:55:01,824 EPOCH 5 done: loss 9.8490 - lr 0.1000\n",
            "2019-10-02 14:55:05,332 DEV : loss 6.366006851196289 - score 0.9081\n",
            "2019-10-02 14:55:05,375 BAD EPOCHS (no improvement): 0\n",
            "2019-10-02 14:55:28,556 ----------------------------------------------------------------------------------------------------\n",
            "2019-10-02 14:55:33,594 epoch 6 - iter 0/140 - loss 10.52724934 - samples/sec: 88.96\n",
            "2019-10-02 14:55:43,629 epoch 6 - iter 14/140 - loss 8.92636995 - samples/sec: 44.70\n",
            "2019-10-02 14:56:07,274 epoch 6 - iter 28/140 - loss 9.30518142 - samples/sec: 18.96\n",
            "2019-10-02 14:56:26,999 epoch 6 - iter 42/140 - loss 9.40980367 - samples/sec: 22.72\n",
            "2019-10-02 14:56:39,699 epoch 6 - iter 56/140 - loss 9.38543665 - samples/sec: 35.30\n",
            "2019-10-02 14:56:56,924 epoch 6 - iter 70/140 - loss 9.45967531 - samples/sec: 26.02\n",
            "2019-10-02 14:57:20,968 epoch 6 - iter 84/140 - loss 9.35301173 - samples/sec: 18.64\n",
            "2019-10-02 14:57:48,107 epoch 6 - iter 98/140 - loss 9.40454575 - samples/sec: 16.51\n",
            "2019-10-02 14:58:14,033 epoch 6 - iter 112/140 - loss 9.41459204 - samples/sec: 17.29\n",
            "2019-10-02 14:58:40,704 epoch 6 - iter 126/140 - loss 9.32951456 - samples/sec: 16.80\n",
            "2019-10-02 14:58:59,913 ----------------------------------------------------------------------------------------------------\n",
            "2019-10-02 14:58:59,915 EPOCH 6 done: loss 9.2218 - lr 0.1000\n",
            "2019-10-02 14:59:03,701 DEV : loss 6.062259197235107 - score 0.9141\n",
            "2019-10-02 14:59:03,750 BAD EPOCHS (no improvement): 0\n",
            "2019-10-02 14:59:25,144 ----------------------------------------------------------------------------------------------------\n",
            "2019-10-02 14:59:25,583 epoch 7 - iter 0/140 - loss 7.36547184 - samples/sec: 1028.52\n",
            "2019-10-02 15:00:08,587 epoch 7 - iter 14/140 - loss 9.31011642 - samples/sec: 10.42\n",
            "2019-10-02 15:00:39,373 epoch 7 - iter 28/140 - loss 9.11755521 - samples/sec: 14.56\n",
            "2019-10-02 15:01:03,771 epoch 7 - iter 42/140 - loss 9.05063771 - samples/sec: 18.37\n",
            "2019-10-02 15:01:28,719 epoch 7 - iter 56/140 - loss 9.11769012 - samples/sec: 17.96\n",
            "2019-10-02 15:01:56,913 epoch 7 - iter 70/140 - loss 9.19971677 - samples/sec: 15.90\n",
            "2019-10-02 15:02:10,897 epoch 7 - iter 84/140 - loss 9.14161312 - samples/sec: 32.06\n",
            "2019-10-02 15:02:25,461 epoch 7 - iter 98/140 - loss 9.10197206 - samples/sec: 30.78\n",
            "2019-10-02 15:02:45,667 epoch 7 - iter 112/140 - loss 9.04727037 - samples/sec: 22.18\n",
            "2019-10-02 15:03:15,303 epoch 7 - iter 126/140 - loss 9.06496455 - samples/sec: 15.12\n",
            "2019-10-02 15:03:28,337 ----------------------------------------------------------------------------------------------------\n",
            "2019-10-02 15:03:28,342 EPOCH 7 done: loss 9.0608 - lr 0.1000\n",
            "2019-10-02 15:03:32,021 DEV : loss 5.9195332527160645 - score 0.9126\n",
            "2019-10-02 15:03:32,063 BAD EPOCHS (no improvement): 1\n",
            "2019-10-02 15:03:32,065 ----------------------------------------------------------------------------------------------------\n",
            "2019-10-02 15:03:33,164 epoch 8 - iter 0/140 - loss 9.47193527 - samples/sec: 408.42\n",
            "2019-10-02 15:03:54,084 epoch 8 - iter 14/140 - loss 9.43116035 - samples/sec: 21.43\n",
            "2019-10-02 15:04:14,727 epoch 8 - iter 28/140 - loss 8.95933939 - samples/sec: 21.71\n",
            "2019-10-02 15:04:34,282 epoch 8 - iter 42/140 - loss 8.82892071 - samples/sec: 22.92\n",
            "2019-10-02 15:05:00,061 epoch 8 - iter 56/140 - loss 8.83100594 - samples/sec: 17.38\n",
            "2019-10-02 15:05:23,611 epoch 8 - iter 70/140 - loss 8.82905413 - samples/sec: 19.03\n",
            "2019-10-02 15:05:38,719 epoch 8 - iter 84/140 - loss 8.78631284 - samples/sec: 29.67\n",
            "2019-10-02 15:05:57,890 epoch 8 - iter 98/140 - loss 8.80224934 - samples/sec: 23.38\n",
            "2019-10-02 15:06:16,451 epoch 8 - iter 112/140 - loss 8.79154189 - samples/sec: 24.15\n",
            "2019-10-02 15:06:37,557 epoch 8 - iter 126/140 - loss 8.92978737 - samples/sec: 21.24\n",
            "2019-10-02 15:06:57,701 ----------------------------------------------------------------------------------------------------\n",
            "2019-10-02 15:06:57,703 EPOCH 8 done: loss 8.9210 - lr 0.1000\n",
            "2019-10-02 15:07:01,412 DEV : loss 5.917735576629639 - score 0.9134\n",
            "2019-10-02 15:07:01,455 BAD EPOCHS (no improvement): 2\n",
            "2019-10-02 15:07:01,460 ----------------------------------------------------------------------------------------------------\n",
            "2019-10-02 15:07:02,104 epoch 9 - iter 0/140 - loss 9.55274773 - samples/sec: 699.30\n",
            "2019-10-02 15:07:13,959 epoch 9 - iter 14/140 - loss 7.48049723 - samples/sec: 37.82\n",
            "2019-10-02 15:07:35,420 epoch 9 - iter 28/140 - loss 8.22966311 - samples/sec: 20.88\n",
            "2019-10-02 15:07:51,048 epoch 9 - iter 42/140 - loss 8.36328090 - samples/sec: 28.68\n",
            "2019-10-02 15:08:09,662 epoch 9 - iter 56/140 - loss 8.17147134 - samples/sec: 24.08\n",
            "2019-10-02 15:08:25,258 epoch 9 - iter 70/140 - loss 8.15357991 - samples/sec: 28.74\n",
            "2019-10-02 15:08:42,380 epoch 9 - iter 84/140 - loss 8.35895003 - samples/sec: 26.18\n",
            "2019-10-02 15:09:09,655 epoch 9 - iter 98/140 - loss 8.34013203 - samples/sec: 16.43\n",
            "2019-10-02 15:09:40,389 epoch 9 - iter 112/140 - loss 8.47377805 - samples/sec: 14.58\n",
            "2019-10-02 15:10:02,320 epoch 9 - iter 126/140 - loss 8.48247819 - samples/sec: 20.44\n",
            "2019-10-02 15:10:20,773 ----------------------------------------------------------------------------------------------------\n",
            "2019-10-02 15:10:20,778 EPOCH 9 done: loss 8.4557 - lr 0.1000\n",
            "2019-10-02 15:10:24,524 DEV : loss 5.722972393035889 - score 0.9186\n",
            "2019-10-02 15:10:24,565 BAD EPOCHS (no improvement): 0\n",
            "2019-10-02 15:10:49,095 ----------------------------------------------------------------------------------------------------\n",
            "2019-10-02 15:10:53,047 epoch 10 - iter 0/140 - loss 11.50799847 - samples/sec: 113.74\n",
            "2019-10-02 15:11:15,838 epoch 10 - iter 14/140 - loss 8.51697079 - samples/sec: 19.67\n",
            "2019-10-02 15:11:31,138 epoch 10 - iter 28/140 - loss 8.36767308 - samples/sec: 29.30\n",
            "2019-10-02 15:11:53,638 epoch 10 - iter 42/140 - loss 8.65890209 - samples/sec: 19.92\n",
            "2019-10-02 15:12:12,379 epoch 10 - iter 56/140 - loss 8.79704411 - samples/sec: 23.92\n",
            "2019-10-02 15:12:26,906 epoch 10 - iter 70/140 - loss 8.67895369 - samples/sec: 30.86\n",
            "2019-10-02 15:12:43,264 epoch 10 - iter 84/140 - loss 8.55191355 - samples/sec: 27.40\n",
            "2019-10-02 15:13:04,340 epoch 10 - iter 98/140 - loss 8.54343920 - samples/sec: 21.27\n",
            "2019-10-02 15:13:18,930 epoch 10 - iter 112/140 - loss 8.50670229 - samples/sec: 30.73\n",
            "2019-10-02 15:13:41,873 epoch 10 - iter 126/140 - loss 8.41014579 - samples/sec: 19.53\n",
            "2019-10-02 15:14:20,340 ----------------------------------------------------------------------------------------------------\n",
            "2019-10-02 15:14:20,344 EPOCH 10 done: loss 8.4332 - lr 0.1000\n",
            "2019-10-02 15:14:24,065 DEV : loss 5.768972873687744 - score 0.9156\n",
            "2019-10-02 15:14:24,106 BAD EPOCHS (no improvement): 1\n",
            "2019-10-02 15:14:44,352 ----------------------------------------------------------------------------------------------------\n",
            "2019-10-02 15:14:45,982 Testing using best model ...\n",
            "2019-10-02 15:14:45,987 loading file resources/taggers/example-universal-pos/best-model.pt\n",
            "2019-10-02 15:15:55,984 0.9248\t0.9248\t0.9248\n",
            "2019-10-02 15:15:55,987 \n",
            "MICRO_AVG: acc 0.8601 - f1-score 0.9248\n",
            "MACRO_AVG: acc 0.7921 - f1-score 0.85515\n",
            "ADJ        tp: 307 - fp: 77 - fn: 118 - tn: 307 - precision: 0.7995 - recall: 0.7224 - accuracy: 0.6116 - f1-score: 0.7590\n",
            "ADP        tp: 1107 - fp: 62 - fn: 46 - tn: 1107 - precision: 0.9470 - recall: 0.9601 - accuracy: 0.9111 - f1-score: 0.9535\n",
            "ADV        tp: 416 - fp: 87 - fn: 74 - tn: 416 - precision: 0.8270 - recall: 0.8490 - accuracy: 0.7210 - f1-score: 0.8379\n",
            "AUX        tp: 96 - fp: 1 - fn: 0 - tn: 96 - precision: 0.9897 - recall: 1.0000 - accuracy: 0.9897 - f1-score: 0.9948\n",
            "CCONJ      tp: 346 - fp: 17 - fn: 29 - tn: 346 - precision: 0.9532 - recall: 0.9227 - accuracy: 0.8827 - f1-score: 0.9377\n",
            "DET        tp: 343 - fp: 18 - fn: 31 - tn: 343 - precision: 0.9501 - recall: 0.9171 - accuracy: 0.8750 - f1-score: 0.9333\n",
            "NOUN       tp: 2299 - fp: 271 - fn: 256 - tn: 2299 - precision: 0.8946 - recall: 0.8998 - accuracy: 0.8135 - f1-score: 0.8972\n",
            "NUM        tp: 378 - fp: 22 - fn: 29 - tn: 378 - precision: 0.9450 - recall: 0.9287 - accuracy: 0.8811 - f1-score: 0.9368\n",
            "PART       tp: 42 - fp: 1 - fn: 7 - tn: 42 - precision: 0.9767 - recall: 0.8571 - accuracy: 0.8400 - f1-score: 0.9130\n",
            "PRON       tp: 467 - fp: 5 - fn: 31 - tn: 467 - precision: 0.9894 - recall: 0.9378 - accuracy: 0.9284 - f1-score: 0.9629\n",
            "PROPN      tp: 2062 - fp: 208 - fn: 149 - tn: 2062 - precision: 0.9084 - recall: 0.9326 - accuracy: 0.8524 - f1-score: 0.9203\n",
            "PUNCT      tp: 1723 - fp: 6 - fn: 1 - tn: 1723 - precision: 0.9965 - recall: 0.9994 - accuracy: 0.9960 - f1-score: 0.9979\n",
            "SCONJ      tp: 111 - fp: 28 - fn: 31 - tn: 111 - precision: 0.7986 - recall: 0.7817 - accuracy: 0.6529 - f1-score: 0.7901\n",
            "SYM        tp: 26 - fp: 1 - fn: 4 - tn: 26 - precision: 0.9630 - recall: 0.8667 - accuracy: 0.8387 - f1-score: 0.9123\n",
            "VERB       tp: 1171 - fp: 82 - fn: 79 - tn: 1171 - precision: 0.9346 - recall: 0.9368 - accuracy: 0.8791 - f1-score: 0.9357\n",
            "X          tp: 0 - fp: 0 - fn: 1 - tn: 0 - precision: 0.0000 - recall: 0.0000 - accuracy: 0.0000 - f1-score: 0.0000\n",
            "2019-10-02 15:15:55,988 ----------------------------------------------------------------------------------------------------\n"
          ],
          "name": "stdout"
        },
        {
          "output_type": "execute_result",
          "data": {
            "text/plain": [
              "{'dev_loss_history': [tensor(12.8496),\n",
              "  tensor(8.1575),\n",
              "  tensor(6.8801),\n",
              "  tensor(6.5519),\n",
              "  tensor(6.3660),\n",
              "  tensor(6.0623),\n",
              "  tensor(5.9195),\n",
              "  tensor(5.9177),\n",
              "  tensor(5.7230),\n",
              "  tensor(5.7690)],\n",
              " 'dev_score_history': [0.8174,\n",
              "  0.8888,\n",
              "  0.9028,\n",
              "  0.9049,\n",
              "  0.9081,\n",
              "  0.9141,\n",
              "  0.9126,\n",
              "  0.9134,\n",
              "  0.9186,\n",
              "  0.9156],\n",
              " 'test_score': 0.9248,\n",
              " 'train_loss_history': [29.67927223614284,\n",
              "  14.246807411738805,\n",
              "  11.646686921800885,\n",
              "  10.323263042313712,\n",
              "  9.848991067068917,\n",
              "  9.221789254461015,\n",
              "  9.06080003806523,\n",
              "  8.921023992129735,\n",
              "  8.455742127554757,\n",
              "  8.433172522272383]}"
            ]
          },
          "metadata": {
            "tags": []
          },
          "execution_count": 3
        }
      ]
    },
    {
      "cell_type": "code",
      "metadata": {
        "id": "LqvmmuVf7cPs",
        "colab_type": "code",
        "outputId": "154b4971-f37b-4973-e420-8395bc18c049",
        "colab": {
          "base_uri": "https://localhost:8080/",
          "height": 71
        }
      },
      "source": [
        "from flair.data import Sentence\n",
        "\n",
        "sentence = Sentence('saya dan dia kemarin pergi ke pasar bersama untuk membeli jeruk')\n",
        "tag_pos = SequenceTagger.load('resources/taggers/example-universal-pos/best-model.pt')\n",
        "tag_pos.predict(sentence)\n",
        "print(sentence.to_tagged_string())"
      ],
      "execution_count": 6,
      "outputs": [
        {
          "output_type": "stream",
          "text": [
            "2019-10-02 15:21:09,495 loading file resources/taggers/example-universal-pos/best-model.pt\n",
            "saya <PRON> dan <CCONJ> dia <PRON> kemarin <ADV> pergi <VERB> ke <ADP> pasar <NOUN> bersama <ADP> untuk <ADP> membeli <VERB> jeruk <NOUN>\n"
          ],
          "name": "stdout"
        }
      ]
    }
  ]
}